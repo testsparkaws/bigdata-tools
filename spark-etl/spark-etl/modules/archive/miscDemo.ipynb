{
 "cells": [
  {
   "cell_type": "code",
   "execution_count": 1,
   "metadata": {},
   "outputs": [
    {
     "name": "stderr",
     "output_type": "stream",
     "text": [
      "23/07/25 17:19:57 WARN NativeCodeLoader: Unable to load native-hadoop library for your platform... using builtin-java classes where applicable\n",
      "Using Spark's default log4j profile: org/apache/spark/log4j-defaults.properties\n",
      "Setting default log level to \"WARN\".\n",
      "To adjust logging level use sc.setLogLevel(newLevel). For SparkR, use setLogLevel(newLevel).\n"
     ]
    },
    {
     "name": "stdout",
     "output_type": "stream",
     "text": [
      "root\n",
      " |-- name: string (nullable = true)\n",
      " |-- day: string (nullable = true)\n",
      " |-- month: string (nullable = true)\n",
      " |-- year: string (nullable = true)\n",
      "\n"
     ]
    }
   ],
   "source": [
    "#import findspark\n",
    "#findspark.init()\n",
    "\n",
    "import pyspark\n",
    "from pyspark.sql import *\n",
    "from pyspark.sql.functions import *\n",
    "from pyspark.sql.types import *\n",
    "\n",
    "spark = SparkSession.builder \\\n",
    "            .master(\"local[3]\") \\\n",
    "            .appName(\"MiscDemo\") \\\n",
    "            .getOrCreate()\n",
    "\n",
    "data_list = [(\"Ravi\", \"28\", \"1\", \"2002\"),\n",
    "             (\"Abdul\", \"23\", \"5\", \"81\"), # 1981\n",
    "             (\"John\", \"12\", \"12\", \"6\"), # 2006\n",
    "             (\"Rosy\", \"7\", \"8\", \"63\"), # 1963\n",
    "             (\"Abdul\", \"23\", \"5\", \"81\") # 1981\n",
    "            ]\n",
    "raw_df = spark.createDataFrame(data_list).toDF(\"name\", \"day\", \"month\", \"year\").repartition(3)\n",
    "raw_df.printSchema()"
   ]
  },
  {
   "cell_type": "code",
   "execution_count": 2,
   "metadata": {},
   "outputs": [
    {
     "name": "stderr",
     "output_type": "stream",
     "text": [
      "[Stage 0:>                                                          (0 + 3) / 3]\r"
     ]
    },
    {
     "name": "stdout",
     "output_type": "stream",
     "text": [
      "+-----+---+-----+----+-----------+\n",
      "| name|day|month|year|         id|\n",
      "+-----+---+-----+----+-----------+\n",
      "|Abdul| 23|    5|  81|          0|\n",
      "| Ravi| 28|    1|2002| 8589934592|\n",
      "|Abdul| 23|    5|  81| 8589934593|\n",
      "| John| 12|   12|   6|17179869184|\n",
      "| Rosy|  7|    8|  63|17179869185|\n",
      "+-----+---+-----+----+-----------+\n",
      "\n"
     ]
    },
    {
     "name": "stderr",
     "output_type": "stream",
     "text": [
      "                                                                                \r"
     ]
    }
   ],
   "source": [
    "df1 = raw_df.withColumn(\"id\", monotonically_increasing_id())\n",
    "df1.show()\n"
   ]
  },
  {
   "cell_type": "code",
   "execution_count": 3,
   "metadata": {},
   "outputs": [
    {
     "name": "stdout",
     "output_type": "stream",
     "text": [
      "+-----+---+-----+------+-----------+\n",
      "| name|day|month|  year|         id|\n",
      "+-----+---+-----+------+-----------+\n",
      "|Abdul| 23|    5|1981.0|          0|\n",
      "| Ravi| 28|    1|  2002| 8589934592|\n",
      "|Abdul| 23|    5|1981.0| 8589934593|\n",
      "| John| 12|   12|2006.0|17179869184|\n",
      "| Rosy|  7|    8|1963.0|17179869185|\n",
      "+-----+---+-----+------+-----------+\n",
      "\n"
     ]
    }
   ],
   "source": [
    "df2 = df1.withColumn(\"year\", expr(\"\"\" case \n",
    "        when year < 21 then year+2000\n",
    "        when year < 100 then year+1900\n",
    "        else year \n",
    "        end \n",
    "\"\"\"))\n",
    "df2.show()"
   ]
  },
  {
   "cell_type": "code",
   "execution_count": 4,
   "metadata": {},
   "outputs": [
    {
     "name": "stdout",
     "output_type": "stream",
     "text": [
      "+-----+---+-----+----+-----------+\n",
      "| name|day|month|year|         id|\n",
      "+-----+---+-----+----+-----------+\n",
      "|Abdul| 23|    5|1981|          0|\n",
      "| Ravi| 28|    1|2002| 8589934592|\n",
      "|Abdul| 23|    5|1981| 8589934593|\n",
      "| John| 12|   12|2006|17179869184|\n",
      "| Rosy|  7|    8|1963|17179869185|\n",
      "+-----+---+-----+----+-----------+\n",
      "\n"
     ]
    }
   ],
   "source": [
    "df3 = df1.withColumn(\"year\", expr(\"\"\" case \n",
    "        when year < 21 then cast(year as int)+2000\n",
    "        when year < 100 then cast(year as int)+1900\n",
    "        else year \n",
    "        end \n",
    "\"\"\"))\n",
    "df3.show()"
   ]
  },
  {
   "cell_type": "code",
   "execution_count": 5,
   "metadata": {},
   "outputs": [
    {
     "name": "stdout",
     "output_type": "stream",
     "text": [
      "+-----+---+-----+----+-----------+\n",
      "| name|day|month|year|         id|\n",
      "+-----+---+-----+----+-----------+\n",
      "|Abdul| 23|    5|1981|          0|\n",
      "| Ravi| 28|    1|2002| 8589934592|\n",
      "|Abdul| 23|    5|1981| 8589934593|\n",
      "| John| 12|   12|2006|17179869184|\n",
      "| Rosy|  7|    8|1963|17179869185|\n",
      "+-----+---+-----+----+-----------+\n",
      "\n"
     ]
    }
   ],
   "source": [
    "df4 = df1.withColumn(\"year\", expr(\"\"\" case \n",
    "        when year < 21 then year+2000\n",
    "        when year < 100 then year+1900\n",
    "        else year \n",
    "        end \n",
    "\"\"\").cast(IntegerType()))\n",
    "df4.show()"
   ]
  },
  {
   "cell_type": "code",
   "execution_count": 10,
   "metadata": {},
   "outputs": [
    {
     "name": "stdout",
     "output_type": "stream",
     "text": [
      "+-----+---+-----+----+-----------+\n",
      "| name|day|month|year|         id|\n",
      "+-----+---+-----+----+-----------+\n",
      "|Abdul| 23|    5|  81|          0|\n",
      "| Ravi| 28|    1|2002| 8589934592|\n",
      "|Abdul| 23|    5|  81| 8589934593|\n",
      "| John| 12|   12|   6|17179869184|\n",
      "| Rosy|  7|    8|  63|17179869185|\n",
      "+-----+---+-----+----+-----------+\n",
      "\n",
      "root\n",
      " |-- name: string (nullable = true)\n",
      " |-- day: integer (nullable = true)\n",
      " |-- month: integer (nullable = true)\n",
      " |-- year: integer (nullable = true)\n",
      " |-- id: long (nullable = false)\n",
      "\n",
      "+-----+---+-----+----+-----------+\n",
      "| name|day|month|year|         id|\n",
      "+-----+---+-----+----+-----------+\n",
      "|Abdul| 23|    5|1981|          0|\n",
      "| Ravi| 28|    1|2002| 8589934592|\n",
      "|Abdul| 23|    5|1981| 8589934593|\n",
      "| John| 12|   12|2006|17179869184|\n",
      "| Rosy|  7|    8|1963|17179869185|\n",
      "+-----+---+-----+----+-----------+\n",
      "\n"
     ]
    }
   ],
   "source": [
    "df1.show()\n",
    "\n",
    "df5 = df1.withColumn(\"day\" , col(\"day\").cast(IntegerType())) \\\n",
    "         .withColumn(\"month\" , col(\"month\").cast(IntegerType())) \\\n",
    "         .withColumn(\"year\" , col(\"year\").cast(IntegerType()))\n",
    "\n",
    "df5.printSchema()\n",
    "\n",
    "df6 = df5.withColumn(\"year\", expr(\"\"\" case \n",
    "        when year < 21 then year+2000\n",
    "        when year < 100 then year+1900\n",
    "        else year \n",
    "        end \n",
    "\"\"\"))\n",
    "df6.show()"
   ]
  },
  {
   "cell_type": "code",
   "execution_count": 13,
   "metadata": {},
   "outputs": [
    {
     "name": "stdout",
     "output_type": "stream",
     "text": [
      "+-----+---+-----+----+-----------+\n",
      "| name|day|month|year|         id|\n",
      "+-----+---+-----+----+-----------+\n",
      "|Abdul| 23|    5|  81|          0|\n",
      "| Ravi| 28|    1|2002| 8589934592|\n",
      "|Abdul| 23|    5|  81| 8589934593|\n",
      "| John| 12|   12|   6|17179869184|\n",
      "| Rosy|  7|    8|  63|17179869185|\n",
      "+-----+---+-----+----+-----------+\n",
      "\n",
      "+-----+---+-----+----+-----------+\n",
      "| name|day|month|year|         id|\n",
      "+-----+---+-----+----+-----------+\n",
      "|Abdul| 23|    5|1981|          0|\n",
      "| Ravi| 28|    1|2002| 8589934592|\n",
      "|Abdul| 23|    5|1981| 8589934593|\n",
      "| John| 12|   12|2006|17179869184|\n",
      "| Rosy|  7|    8|1963|17179869185|\n",
      "+-----+---+-----+----+-----------+\n",
      "\n"
     ]
    }
   ],
   "source": [
    "df5.show()\n",
    "df7 = df5.withColumn(\"year\" , when(col(\"year\") < 21 , col(\"year\")+2000) \\\n",
    "                     .when(col(\"year\") < 100 , col(\"year\")+1900) \\\n",
    "                     .otherwise(col(\"year\"))\n",
    "                    )\n",
    "df7.show()"
   ]
  },
  {
   "cell_type": "code",
   "execution_count": 15,
   "metadata": {},
   "outputs": [
    {
     "name": "stdout",
     "output_type": "stream",
     "text": [
      "+-----+---+-----+----+-----------+----------+\n",
      "| name|day|month|year|         id|       dob|\n",
      "+-----+---+-----+----+-----------+----------+\n",
      "|Abdul| 23|    5|1981|          0|1981-05-23|\n",
      "| Ravi| 28|    1|2002| 8589934592|2002-01-28|\n",
      "|Abdul| 23|    5|1981| 8589934593|1981-05-23|\n",
      "| John| 12|   12|2006|17179869184|2006-12-12|\n",
      "| Rosy|  7|    8|1963|17179869185|1963-08-07|\n",
      "+-----+---+-----+----+-----------+----------+\n",
      "\n"
     ]
    }
   ],
   "source": [
    "df8 = df7.withColumn(\"dob\", expr(\"to_date(concat(day,'/',month,'/',year), 'd/M/y')\"))\n",
    "df8.show()"
   ]
  },
  {
   "cell_type": "code",
   "execution_count": 22,
   "metadata": {},
   "outputs": [
    {
     "name": "stderr",
     "output_type": "stream",
     "text": [
      "[Stage 89:================================================>     (179 + 4) / 200]\r"
     ]
    },
    {
     "name": "stdout",
     "output_type": "stream",
     "text": [
      "+-----+-----------+----------+\n",
      "| name|         id|       dob|\n",
      "+-----+-----------+----------+\n",
      "| Rosy|17179869185|1963-08-07|\n",
      "|Abdul|          0|1981-05-23|\n",
      "| Ravi| 8589934592|2002-01-28|\n",
      "| John|17179869184|2006-12-12|\n",
      "+-----+-----------+----------+\n",
      "\n"
     ]
    },
    {
     "name": "stderr",
     "output_type": "stream",
     "text": [
      "                                                                                \r"
     ]
    }
   ],
   "source": [
    "df9=df7.withColumn(\"dob\", to_date(expr(\"concat(day,'/',month,'/',year)\"), 'd/M/y'))\\\n",
    "             .drop(\"day\",\"month\",\"year\") \\\n",
    "             .dropDuplicates([\"name\",\"dob\"]) \\\n",
    "             .sort(expr(\"dob desc\"))\n",
    "\n",
    "df9.show()"
   ]
  },
  {
   "cell_type": "code",
   "execution_count": null,
   "metadata": {},
   "outputs": [],
   "source": []
  }
 ],
 "metadata": {
  "kernelspec": {
   "display_name": "de-venv",
   "language": "python",
   "name": "python3"
  },
  "language_info": {
   "codemirror_mode": {
    "name": "ipython",
    "version": 3
   },
   "file_extension": ".py",
   "mimetype": "text/x-python",
   "name": "python",
   "nbconvert_exporter": "python",
   "pygments_lexer": "ipython3",
   "version": "3.7.3"
  },
  "orig_nbformat": 4
 },
 "nbformat": 4,
 "nbformat_minor": 2
}
