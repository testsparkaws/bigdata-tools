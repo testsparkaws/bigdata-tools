{
 "cells": [
  {
   "cell_type": "code",
   "execution_count": 1,
   "metadata": {},
   "outputs": [],
   "source": [
    "import pyspark"
   ]
  },
  {
   "cell_type": "code",
   "execution_count": 3,
   "metadata": {},
   "outputs": [],
   "source": [
    "from pyspark.sql.functions import * \n",
    "\n",
    "def to_date_df(df,fmt,fld):\n",
    "    return df.withColumn(fld, to_date(col(fld), fmt))"
   ]
  },
  {
   "cell_type": "code",
   "execution_count": 7,
   "metadata": {},
   "outputs": [
    {
     "data": {
      "text/plain": [
       "[<Row('123', '04/05/2020')>,\n",
       " <Row('124', '4/5/2020')>,\n",
       " <Row('125', '04/5/2020')>,\n",
       " <Row('126', '4/05/2020')>]"
      ]
     },
     "execution_count": 7,
     "metadata": {},
     "output_type": "execute_result"
    }
   ],
   "source": [
    "from pyspark.sql.types import Row\n",
    "my_rows = [\n",
    "    Row(\"123\",\"04/05/2020\"),\n",
    "    Row(\"124\",\"4/5/2020\"),\n",
    "    Row(\"125\",\"04/5/2020\"),\n",
    "    Row(\"126\",\"4/05/2020\")\n",
    "]\n",
    "my_rows"
   ]
  },
  {
   "cell_type": "code",
   "execution_count": 11,
   "metadata": {},
   "outputs": [
    {
     "data": {
      "text/plain": [
       "ParallelCollectionRDD[1] at readRDDFromFile at PythonRDD.scala:262"
      ]
     },
     "execution_count": 11,
     "metadata": {},
     "output_type": "execute_result"
    }
   ],
   "source": [
    "from pyspark.sql import SparkSession\n",
    "spark = SparkSession.builder.appName(\"\").getOrCreate()\n",
    "my_rdd = spark.sparkContext.parallelize(my_rows,2)\n",
    "my_rdd"
   ]
  },
  {
   "cell_type": "code",
   "execution_count": 17,
   "metadata": {},
   "outputs": [
    {
     "name": "stdout",
     "output_type": "stream",
     "text": [
      "root\n",
      " |-- ID: string (nullable = true)\n",
      " |-- EventDate: string (nullable = true)\n",
      "\n",
      "+---+----------+\n",
      "| ID| EventDate|\n",
      "+---+----------+\n",
      "|123|04/05/2020|\n",
      "|124|  4/5/2020|\n",
      "|125| 04/5/2020|\n",
      "|126| 4/05/2020|\n",
      "+---+----------+\n",
      "\n"
     ]
    }
   ],
   "source": [
    "from pyspark.sql.types import StringType, StructType, StructField \n",
    "my_schema = StructType([\n",
    "    StructField(\"ID\",StringType()),\n",
    "    StructField(\"EventDate\", StringType())\n",
    "])\n",
    "my_df = spark.createDataFrame(my_rdd, my_schema)\n",
    "my_df.printSchema()\n",
    "my_df.show()"
   ]
  },
  {
   "cell_type": "code",
   "execution_count": 16,
   "metadata": {},
   "outputs": [
    {
     "name": "stdout",
     "output_type": "stream",
     "text": [
      "root\n",
      " |-- ID: string (nullable = true)\n",
      " |-- EventDate: date (nullable = true)\n",
      "\n",
      "+---+----------+\n",
      "| ID| EventDate|\n",
      "+---+----------+\n",
      "|123|2020-04-05|\n",
      "|124|2020-04-05|\n",
      "|125|2020-04-05|\n",
      "|126|2020-04-05|\n",
      "+---+----------+\n",
      "\n"
     ]
    }
   ],
   "source": [
    "new_df = to_date_df(my_df, 'M/d/y',\"EventDate\")\n",
    "new_df.printSchema()\n",
    "new_df.show()"
   ]
  },
  {
   "cell_type": "code",
   "execution_count": null,
   "metadata": {},
   "outputs": [],
   "source": []
  }
 ],
 "metadata": {
  "kernelspec": {
   "display_name": "de-venv",
   "language": "python",
   "name": "python3"
  },
  "language_info": {
   "codemirror_mode": {
    "name": "ipython",
    "version": 3
   },
   "file_extension": ".py",
   "mimetype": "text/x-python",
   "name": "python",
   "nbconvert_exporter": "python",
   "pygments_lexer": "ipython3",
   "version": "3.7.3"
  },
  "orig_nbformat": 4
 },
 "nbformat": 4,
 "nbformat_minor": 2
}
